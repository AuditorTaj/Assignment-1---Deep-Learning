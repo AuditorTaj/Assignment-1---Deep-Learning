{
  "cells": [
    {
      "cell_type": "markdown",
      "metadata": {
        "id": "pBHXDHq1aUV3"
      },
      "source": [
        "# TAJ AHMED - DEEP LEARNING - PGD DS&AI B-V"
      ]
    },
    {
      "cell_type": "markdown",
      "metadata": {
        "id": "7Kp315_qaUV8"
      },
      "source": [
        "# Question 1"
      ]
    },
    {
      "cell_type": "markdown",
      "metadata": {
        "id": "RfHAJSKWaUV-"
      },
      "source": [
        "# Gradient Descent & Types of Gradient Descent"
      ]
    },
    {
      "cell_type": "markdown",
      "metadata": {
        "id": "cKx-nb0vaUV_"
      },
      "source": [
        "Gradient Descent is an optimization algorithm used to minimize the cost function in machine learning and deep learning models. The primary goal is to find the parameters (weights) that minimize the cost function, which measures how well the model fits the training data.\n",
        "\n",
        "Steps of Gradient Descent:\n",
        "1- Initialize Parameters: Start with random values for the weights.\n",
        "2- Compute Gradient: Calculate the gradient of the cost function with respect to each weight.\n",
        "3- Update Parameters: Adjust the weights in the opposite direction of the gradient by a certain step size, called the learning rate.\n",
        "4- Repeat: Iterate over steps 2 and 3 until convergence (i.e., the cost function no longer decreases significantly).\n",
        "\n",
        "Types of Gradient Descent\n",
        "\n",
        "1- Batch Gradient Descent (BGD):\n",
        "Description: Uses the entire training dataset to compute the gradient at each step.\n",
        "Advantages:\n",
        "Converges smoothly.\n",
        "Guarantees finding the global minimum for convex functions.\n",
        "Disadvantages:\n",
        "Can be very slow for large datasets since it requires a complete pass over the data for each update.\n",
        "High memory consumption.\n",
        "Use Case: Suitable for small to medium-sized datasets where memory and computational resources are not a concern.\n",
        "\n",
        "2- Stochastic Gradient Descent (SGD):\n",
        "Description: Uses one randomly chosen training example to compute the gradient at each step.\n",
        "Advantages:\n",
        "Faster convergence compared to BGD because it updates weights more frequently.\n",
        "Can escape local minima, potentially finding a better solution.\n",
        "Disadvantages:\n",
        "More noisy and less stable than BGD.\n",
        "The cost function may fluctuate instead of smoothly decreasing.\n",
        "Use Case: Suitable for large datasets and online learning scenarios where the model is continuously updated with new data.\n",
        "\n",
        "3- Mini-Batch Gradient Descent:\n",
        "Description: Uses a small, random subset (mini-batch) of the training data to compute the gradient at each step.\n",
        "Advantages:\n",
        "Combines the benefits of both BGD and SGD.\n",
        "Reduces the variance of parameter updates, leading to more stable convergence.\n",
        "Efficient use of memory and computational resources.\n",
        "Disadvantages:\n",
        "Requires tuning of the mini-batch size.\n",
        "Use Case: Commonly used in practice for training deep learning models as it offers a good trade-off between the speed of convergence and stability."
      ]
    },
    {
      "cell_type": "markdown",
      "metadata": {
        "id": "p4IDoM91aUWB"
      },
      "source": [
        "# Validation set & Validation Loss"
      ]
    },
    {
      "cell_type": "markdown",
      "metadata": {
        "id": "9EC8n1Q5aUWC"
      },
      "source": [
        "Validation Set\n",
        "\n",
        "Validation Set is a subset of the dataset used to evaluate the performance of a model during training. Unlike the training set, which is used to fit the model, the validation set is used to fine-tune model parameters and select the best model. It helps in assessing how well the model generalizes to new, unseen data.\n",
        "\n",
        "Purpose:\n",
        "\n",
        "Model Selection: Helps in selecting the best model from different models or hyperparameter settings.\n",
        "\n",
        "Hyperparameter Tuning: Assists in tuning hyperparameters such as learning rate, batch size, and the number of layers.\n",
        "\n",
        "Early Stopping: Prevents overfitting by monitoring the validation loss and stopping training when it stops improving.\n",
        "\n",
        "Validation Loss\n",
        "\n",
        "Validation Loss is the error calculated on the validation set after each training epoch. It measures how well the model performs on the validation set, giving an indication of the model's ability to generalize to new data.\n",
        "\n",
        "Key Points:\n",
        "\n",
        "Computation: Validation loss is calculated using the same loss function as the training loss but applied to the validation set.\n",
        "\n",
        "Monitoring: Tracking the validation loss during training helps in understanding the model's performance and detecting overfitting."
      ]
    },
    {
      "cell_type": "markdown",
      "metadata": {
        "id": "7m7LZioqaUWD"
      },
      "source": [
        "# Question 2"
      ]
    },
    {
      "cell_type": "markdown",
      "metadata": {
        "id": "q5oYUmoEaUWE"
      },
      "source": [
        "Create a MLP model step by step as we discussed in class and load tips data from Seaborn Library."
      ]
    },
    {
      "cell_type": "markdown",
      "metadata": {
        "id": "RXDALGRWaUWE"
      },
      "source": [
        "Follwoing steps wil be required to create a Multi-Layer Perceptron (MLP) model using the tips dataset from the Seaborn library:\n",
        "\n",
        "1- Load and Explore the Data: Load the dataset and perform basic exploration.\n",
        "\n",
        "2- Preprocess the Data: Handle missing values, encode categorical variables, and scale features.\n",
        "\n",
        "3- Split the Data: Split the data into training and validation sets.\n",
        "\n",
        "4- Build the MLP Model: Define the architecture of the MLP model.\n",
        "\n",
        "5- Compile the Model: Specify the optimizer, loss function, and metrics.\n",
        "\n",
        "6- Train the Model: Fit the model to the training data and validate it.\n",
        "\n",
        "7- Evaluate the Model: Evaluate the model's performance."
      ]
    },
    {
      "cell_type": "code",
      "execution_count": 6,
      "metadata": {
        "colab": {
          "base_uri": "https://localhost:8080/"
        },
        "id": "XT0EzES_aUWF",
        "outputId": "47fe6dc6-7317-486f-8d50-a1a912230e86"
      },
      "outputs": [
        {
          "output_type": "stream",
          "name": "stdout",
          "text": [
            "   total_bill   tip     sex smoker  day    time  size\n",
            "0       16.99  1.01  Female     No  Sun  Dinner     2\n",
            "1       10.34  1.66    Male     No  Sun  Dinner     3\n",
            "2       21.01  3.50    Male     No  Sun  Dinner     3\n",
            "3       23.68  3.31    Male     No  Sun  Dinner     2\n",
            "4       24.59  3.61  Female     No  Sun  Dinner     4\n"
          ]
        }
      ],
      "source": [
        "# Step 1 - Load & Explore Data\n",
        "\n",
        "import seaborn as sns\n",
        "import pandas as pd\n",
        "\n",
        "# Load the tips dataset\n",
        "tips = sns.load_dataset('tips')\n",
        "\n",
        "# Display the first few rows of the dataset\n",
        "print(tips.head())"
      ]
    },
    {
      "cell_type": "code",
      "execution_count": 7,
      "metadata": {
        "id": "cquS2a-eaUWJ"
      },
      "outputs": [],
      "source": [
        "# Step 2 - Preprocess the data\n",
        "\n",
        "from sklearn.preprocessing import StandardScaler, LabelEncoder\n",
        "from sklearn.model_selection import train_test_split\n",
        "\n",
        "# Encode categorical features\n",
        "tips['sex'] = LabelEncoder().fit_transform(tips['sex'])\n",
        "tips['smoker'] = LabelEncoder().fit_transform(tips['smoker'])\n",
        "tips['day'] = LabelEncoder().fit_transform(tips['day'])\n",
        "tips['time'] = LabelEncoder().fit_transform(tips['time'])\n",
        "\n",
        "# Separate features and target\n",
        "X = tips.drop(columns='tip')  # Features (drop 'tip' column)\n",
        "y = tips['tip']  # Target (tip amount)\n",
        "\n",
        "# Standardize the features\n",
        "scaler = StandardScaler()\n",
        "X_scaled = scaler.fit_transform(X)\n"
      ]
    },
    {
      "cell_type": "code",
      "source": [
        "# Step 3 - Split the Data\n",
        "\n",
        "# Split the data into training and validation sets\n",
        "X_train, X_val, y_train, y_val = train_test_split(X_scaled, y, test_size=0.2, random_state=42)"
      ],
      "metadata": {
        "id": "Iso--RvIb_zA"
      },
      "execution_count": 8,
      "outputs": []
    },
    {
      "cell_type": "code",
      "execution_count": 9,
      "metadata": {
        "colab": {
          "base_uri": "https://localhost:8080/"
        },
        "id": "Nf-3RRo1aUWK",
        "outputId": "ef555979-bfa2-49f6-efef-7dd9f6b39830"
      },
      "outputs": [
        {
          "output_type": "stream",
          "name": "stderr",
          "text": [
            "/usr/local/lib/python3.10/dist-packages/keras/src/layers/core/dense.py:87: UserWarning: Do not pass an `input_shape`/`input_dim` argument to a layer. When using Sequential models, prefer using an `Input(shape)` object as the first layer in the model instead.\n",
            "  super().__init__(activity_regularizer=activity_regularizer, **kwargs)\n"
          ]
        }
      ],
      "source": [
        "# Step 4 - Build MLP model\n",
        "\n",
        "from tensorflow.keras.models import Sequential\n",
        "from tensorflow.keras.layers import Dense\n",
        "\n",
        "# Define the MLP model\n",
        "model = Sequential([\n",
        "    Dense(64, activation='relu', input_shape=(X_train.shape[1],)),\n",
        "    Dense(64, activation='relu'),\n",
        "    Dense(1)  # Output layer for regression\n",
        "])\n"
      ]
    },
    {
      "cell_type": "code",
      "execution_count": 10,
      "metadata": {
        "id": "Cd9UXXrkaUWK"
      },
      "outputs": [],
      "source": [
        "# Step 5 - Compile the model\n",
        "\n",
        "from tensorflow.keras.optimizers import Adam\n",
        "\n",
        "# Compile the model\n",
        "model.compile(optimizer=Adam(learning_rate=0.001), loss='mse', metrics=['mae'])\n"
      ]
    },
    {
      "cell_type": "code",
      "source": [
        "# Step 6 - Train the Model\n",
        "\n",
        "from tensorflow.keras.callbacks import EarlyStopping\n",
        "\n",
        "# Define early stopping\n",
        "early_stopping = EarlyStopping(monitor='val_loss', patience=10, restore_best_weights=True)\n",
        "\n",
        "# Train the model\n",
        "history = model.fit(X_train, y_train, epochs=100, batch_size=32, validation_data=(X_val, y_val), callbacks=[early_stopping])\n"
      ],
      "metadata": {
        "colab": {
          "base_uri": "https://localhost:8080/"
        },
        "id": "38Bb1x8ta8zO",
        "outputId": "8d337296-291a-4be1-c447-1dff16d78b94"
      },
      "execution_count": 11,
      "outputs": [
        {
          "output_type": "stream",
          "name": "stdout",
          "text": [
            "Epoch 1/100\n",
            "\u001b[1m7/7\u001b[0m \u001b[32m━━━━━━━━━━━━━━━━━━━━\u001b[0m\u001b[37m\u001b[0m \u001b[1m2s\u001b[0m 38ms/step - loss: 9.7326 - mae: 2.7487 - val_loss: 4.4356 - val_mae: 1.8179\n",
            "Epoch 2/100\n",
            "\u001b[1m7/7\u001b[0m \u001b[32m━━━━━━━━━━━━━━━━━━━━\u001b[0m\u001b[37m\u001b[0m \u001b[1m0s\u001b[0m 10ms/step - loss: 6.9575 - mae: 2.2446 - val_loss: 2.8662 - val_mae: 1.3636\n",
            "Epoch 3/100\n",
            "\u001b[1m7/7\u001b[0m \u001b[32m━━━━━━━━━━━━━━━━━━━━\u001b[0m\u001b[37m\u001b[0m \u001b[1m0s\u001b[0m 7ms/step - loss: 5.0424 - mae: 1.7614 - val_loss: 1.7271 - val_mae: 1.0118\n",
            "Epoch 4/100\n",
            "\u001b[1m7/7\u001b[0m \u001b[32m━━━━━━━━━━━━━━━━━━━━\u001b[0m\u001b[37m\u001b[0m \u001b[1m0s\u001b[0m 12ms/step - loss: 3.0400 - mae: 1.3217 - val_loss: 1.2173 - val_mae: 0.8693\n",
            "Epoch 5/100\n",
            "\u001b[1m7/7\u001b[0m \u001b[32m━━━━━━━━━━━━━━━━━━━━\u001b[0m\u001b[37m\u001b[0m \u001b[1m0s\u001b[0m 10ms/step - loss: 2.0365 - mae: 1.1024 - val_loss: 1.3346 - val_mae: 0.9879\n",
            "Epoch 6/100\n",
            "\u001b[1m7/7\u001b[0m \u001b[32m━━━━━━━━━━━━━━━━━━━━\u001b[0m\u001b[37m\u001b[0m \u001b[1m0s\u001b[0m 8ms/step - loss: 1.6712 - mae: 0.9722 - val_loss: 1.5230 - val_mae: 1.0496\n",
            "Epoch 7/100\n",
            "\u001b[1m7/7\u001b[0m \u001b[32m━━━━━━━━━━━━━━━━━━━━\u001b[0m\u001b[37m\u001b[0m \u001b[1m0s\u001b[0m 7ms/step - loss: 1.5016 - mae: 0.9505 - val_loss: 1.5770 - val_mae: 1.0385\n",
            "Epoch 8/100\n",
            "\u001b[1m7/7\u001b[0m \u001b[32m━━━━━━━━━━━━━━━━━━━━\u001b[0m\u001b[37m\u001b[0m \u001b[1m0s\u001b[0m 9ms/step - loss: 1.4365 - mae: 0.9225 - val_loss: 1.4454 - val_mae: 0.9838\n",
            "Epoch 9/100\n",
            "\u001b[1m7/7\u001b[0m \u001b[32m━━━━━━━━━━━━━━━━━━━━\u001b[0m\u001b[37m\u001b[0m \u001b[1m0s\u001b[0m 7ms/step - loss: 1.3609 - mae: 0.8688 - val_loss: 1.3136 - val_mae: 0.9243\n",
            "Epoch 10/100\n",
            "\u001b[1m7/7\u001b[0m \u001b[32m━━━━━━━━━━━━━━━━━━━━\u001b[0m\u001b[37m\u001b[0m \u001b[1m0s\u001b[0m 10ms/step - loss: 1.1665 - mae: 0.8358 - val_loss: 1.1806 - val_mae: 0.8745\n",
            "Epoch 11/100\n",
            "\u001b[1m7/7\u001b[0m \u001b[32m━━━━━━━━━━━━━━━━━━━━\u001b[0m\u001b[37m\u001b[0m \u001b[1m0s\u001b[0m 7ms/step - loss: 1.3783 - mae: 0.8901 - val_loss: 1.1764 - val_mae: 0.8798\n",
            "Epoch 12/100\n",
            "\u001b[1m7/7\u001b[0m \u001b[32m━━━━━━━━━━━━━━━━━━━━\u001b[0m\u001b[37m\u001b[0m \u001b[1m0s\u001b[0m 8ms/step - loss: 1.1830 - mae: 0.8137 - val_loss: 1.2067 - val_mae: 0.8963\n",
            "Epoch 13/100\n",
            "\u001b[1m7/7\u001b[0m \u001b[32m━━━━━━━━━━━━━━━━━━━━\u001b[0m\u001b[37m\u001b[0m \u001b[1m0s\u001b[0m 13ms/step - loss: 1.2782 - mae: 0.8453 - val_loss: 1.2562 - val_mae: 0.9122\n",
            "Epoch 14/100\n",
            "\u001b[1m7/7\u001b[0m \u001b[32m━━━━━━━━━━━━━━━━━━━━\u001b[0m\u001b[37m\u001b[0m \u001b[1m0s\u001b[0m 9ms/step - loss: 0.9943 - mae: 0.7618 - val_loss: 1.2368 - val_mae: 0.9058\n",
            "Epoch 15/100\n",
            "\u001b[1m7/7\u001b[0m \u001b[32m━━━━━━━━━━━━━━━━━━━━\u001b[0m\u001b[37m\u001b[0m \u001b[1m0s\u001b[0m 10ms/step - loss: 1.0168 - mae: 0.7544 - val_loss: 1.2319 - val_mae: 0.9080\n",
            "Epoch 16/100\n",
            "\u001b[1m7/7\u001b[0m \u001b[32m━━━━━━━━━━━━━━━━━━━━\u001b[0m\u001b[37m\u001b[0m \u001b[1m0s\u001b[0m 9ms/step - loss: 1.0800 - mae: 0.7927 - val_loss: 1.2519 - val_mae: 0.9128\n",
            "Epoch 17/100\n",
            "\u001b[1m7/7\u001b[0m \u001b[32m━━━━━━━━━━━━━━━━━━━━\u001b[0m\u001b[37m\u001b[0m \u001b[1m0s\u001b[0m 10ms/step - loss: 1.0216 - mae: 0.7713 - val_loss: 1.2435 - val_mae: 0.9076\n",
            "Epoch 18/100\n",
            "\u001b[1m7/7\u001b[0m \u001b[32m━━━━━━━━━━━━━━━━━━━━\u001b[0m\u001b[37m\u001b[0m \u001b[1m0s\u001b[0m 8ms/step - loss: 1.0650 - mae: 0.7869 - val_loss: 1.2466 - val_mae: 0.9090\n",
            "Epoch 19/100\n",
            "\u001b[1m7/7\u001b[0m \u001b[32m━━━━━━━━━━━━━━━━━━━━\u001b[0m\u001b[37m\u001b[0m \u001b[1m0s\u001b[0m 10ms/step - loss: 0.9904 - mae: 0.7481 - val_loss: 1.2424 - val_mae: 0.9090\n",
            "Epoch 20/100\n",
            "\u001b[1m7/7\u001b[0m \u001b[32m━━━━━━━━━━━━━━━━━━━━\u001b[0m\u001b[37m\u001b[0m \u001b[1m0s\u001b[0m 7ms/step - loss: 0.9417 - mae: 0.7495 - val_loss: 1.3638 - val_mae: 0.9524\n",
            "Epoch 21/100\n",
            "\u001b[1m7/7\u001b[0m \u001b[32m━━━━━━━━━━━━━━━━━━━━\u001b[0m\u001b[37m\u001b[0m \u001b[1m0s\u001b[0m 10ms/step - loss: 1.0967 - mae: 0.7902 - val_loss: 1.3455 - val_mae: 0.9477\n"
          ]
        }
      ]
    },
    {
      "cell_type": "code",
      "source": [
        "# Step 7 - Evaluate the Model\n",
        "\n",
        "# Evaluate the model on the validation set\n",
        "val_loss, val_mae = model.evaluate(X_val, y_val)\n",
        "print(f'Validation Loss: {val_loss}, Validation MAE: {val_mae}')\n",
        "\n",
        "# Plot the training and validation loss\n",
        "import matplotlib.pyplot as plt\n",
        "\n",
        "plt.plot(history.history['loss'], label='Training Loss')\n",
        "plt.plot(history.history['val_loss'], label='Validation Loss')\n",
        "plt.xlabel('Epochs')\n",
        "plt.ylabel('Loss')\n",
        "plt.legend()\n",
        "plt.show()\n"
      ],
      "metadata": {
        "colab": {
          "base_uri": "https://localhost:8080/",
          "height": 485
        },
        "id": "NQaO-D58a9G0",
        "outputId": "a21dc9c0-6172-4fdb-dc06-3c98e5575a31"
      },
      "execution_count": 12,
      "outputs": [
        {
          "output_type": "stream",
          "name": "stdout",
          "text": [
            "\u001b[1m2/2\u001b[0m \u001b[32m━━━━━━━━━━━━━━━━━━━━\u001b[0m\u001b[37m\u001b[0m \u001b[1m0s\u001b[0m 8ms/step - loss: 1.2228 - mae: 0.8919 \n",
            "Validation Loss: 1.1764341592788696, Validation MAE: 0.8798268437385559\n"
          ]
        },
        {
          "output_type": "display_data",
          "data": {
            "text/plain": [
              "<Figure size 640x480 with 1 Axes>"
            ],
            "image/png": "[encoded data removed]"
          },
          "metadata": {}
        }
      ]
    }
  ],
  "metadata": {
    "kernelspec": {
      "display_name": "Python 3",
      "language": "python",
      "name": "python3"
    },
    "language_info": {
      "codemirror_mode": {
        "name": "ipython",
        "version": 3
      },
      "file_extension": ".py",
      "mimetype": "text/x-python",
      "name": "python",
      "nbconvert_exporter": "python",
      "pygments_lexer": "ipython3",
      "version": "3.12.3"
    },
    "colab": {
      "provenance": []
    }
  },
  "nbformat": 4,
  "nbformat_minor": 0
}